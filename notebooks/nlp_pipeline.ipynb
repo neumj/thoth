{
 "cells": [
  {
   "cell_type": "code",
   "execution_count": 1,
   "metadata": {},
   "outputs": [],
   "source": [
    "%load_ext autoreload\n",
    "%autoreload 2"
   ]
  },
  {
   "cell_type": "code",
   "execution_count": 2,
   "metadata": {},
   "outputs": [],
   "source": [
    "import json\n",
    "from nltk import download\n",
    "from nltk.corpus import stopwords\n",
    "from nltk.stem import PorterStemmer\n",
    "from nltk.tokenize import word_tokenize"
   ]
  },
  {
   "cell_type": "code",
   "execution_count": 3,
   "metadata": {},
   "outputs": [],
   "source": [
    "def read_json(file_path):\n",
    "    \"\"\"\n",
    "    Read json file.\n",
    "    Arguments:\n",
    "     file_path -- string, path to file.\n",
    "    Returns:\n",
    "     d -- dictionary, with json contents.\n",
    "    Tips:\n",
    "     None.\n",
    "    \"\"\"\n",
    "\n",
    "    with open(file_path) as json_data:\n",
    "        d = json.load(json_data)\n",
    "\n",
    "    return d\n",
    "\n",
    "def write_json(data_dict, file_path):\n",
    "    \"\"\"\n",
    "    Write dictionary to json.\n",
    "    Arguments:\n",
    "     data_dict -- dictionary.\n",
    "     file_path -- string, path to file.\n",
    "    Returns:\n",
    "     None.\n",
    "    Tips:\n",
    "     None.\n",
    "    \"\"\"\n",
    "\n",
    "    with open(file_path, \"w\") as fp:\n",
    "        json.dump(data_dict, fp, indent=4)"
   ]
  },
  {
   "cell_type": "code",
   "execution_count": 6,
   "metadata": {},
   "outputs": [],
   "source": [
    "def nlp_preprocess(doc_string):\n",
    "    download('punkt')\n",
    "    stopwords_english = stopwords.words('english')\n",
    "    stemmer = PorterStemmer() \n",
    "    \n",
    "    tokens = word_tokenize(doc_string)\n",
    "    remove_punct = [word.lower() for word in tokens if word.isalnum()]\n",
    "    remove_stops = [word for word in remove_punct if word not in stopwords_english]\n",
    "    stemmed = [stemmer.stem(word) for word in remove_stops]\n",
    "\n",
    "    return stemmed\n",
    "\n",
    "def preprocess_content(content_dict):\n",
    "    clean_list = []\n",
    "    for k in content_dict:\n",
    "        tokens = nlp_preprocess(content_dict[k])\n",
    "        for t in tokens:\n",
    "            clean_list.append(t)\n",
    "    clean_str = \" \".join(clean_list)\n",
    "    content_dict.update({\"nlp_string\": clean_str})\n",
    "    \n",
    "    return content_dict\n",
    "    "
   ]
  },
  {
   "cell_type": "code",
   "execution_count": 7,
   "metadata": {},
   "outputs": [],
   "source": [
    "positive_docs = read_json(\"../data/positive_docs.json\")\n",
    "negative_docs = read_json(\"../data/negative_docs.json\")\n",
    "nvidia_docs = read_json(\"../data/nvidia_docs.json\")"
   ]
  },
  {
   "cell_type": "code",
   "execution_count": 8,
   "metadata": {},
   "outputs": [
    {
     "name": "stderr",
     "output_type": "stream",
     "text": [
      "[nltk_data] Downloading package punkt to /Users/mjn/nltk_data...\n",
      "[nltk_data]   Package punkt is already up-to-date!\n",
      "[nltk_data] Downloading package punkt to /Users/mjn/nltk_data...\n",
      "[nltk_data]   Package punkt is already up-to-date!\n",
      "[nltk_data] Downloading package punkt to /Users/mjn/nltk_data...\n",
      "[nltk_data]   Package punkt is already up-to-date!\n",
      "[nltk_data] Downloading package punkt to /Users/mjn/nltk_data...\n",
      "[nltk_data]   Package punkt is already up-to-date!\n",
      "[nltk_data] Downloading package punkt to /Users/mjn/nltk_data...\n",
      "[nltk_data]   Package punkt is already up-to-date!\n",
      "[nltk_data] Downloading package punkt to /Users/mjn/nltk_data...\n",
      "[nltk_data]   Package punkt is already up-to-date!\n",
      "[nltk_data] Downloading package punkt to /Users/mjn/nltk_data...\n",
      "[nltk_data]   Package punkt is already up-to-date!\n",
      "[nltk_data] Downloading package punkt to /Users/mjn/nltk_data...\n",
      "[nltk_data]   Package punkt is already up-to-date!\n"
     ]
    }
   ],
   "source": [
    "positive_docs = preprocess_content(positive_docs)"
   ]
  },
  {
   "cell_type": "code",
   "execution_count": 9,
   "metadata": {},
   "outputs": [
    {
     "name": "stderr",
     "output_type": "stream",
     "text": [
      "[nltk_data] Downloading package punkt to /Users/mjn/nltk_data...\n",
      "[nltk_data]   Package punkt is already up-to-date!\n",
      "[nltk_data] Downloading package punkt to /Users/mjn/nltk_data...\n",
      "[nltk_data]   Package punkt is already up-to-date!\n",
      "[nltk_data] Downloading package punkt to /Users/mjn/nltk_data...\n",
      "[nltk_data]   Package punkt is already up-to-date!\n",
      "[nltk_data] Downloading package punkt to /Users/mjn/nltk_data...\n",
      "[nltk_data]   Package punkt is already up-to-date!\n",
      "[nltk_data] Downloading package punkt to /Users/mjn/nltk_data...\n",
      "[nltk_data]   Package punkt is already up-to-date!\n",
      "[nltk_data] Downloading package punkt to /Users/mjn/nltk_data...\n",
      "[nltk_data]   Package punkt is already up-to-date!\n"
     ]
    }
   ],
   "source": [
    "negative_docs = preprocess_content(negative_docs)"
   ]
  },
  {
   "cell_type": "code",
   "execution_count": 10,
   "metadata": {},
   "outputs": [
    {
     "name": "stderr",
     "output_type": "stream",
     "text": [
      "[nltk_data] Downloading package punkt to /Users/mjn/nltk_data...\n",
      "[nltk_data]   Package punkt is already up-to-date!\n"
     ]
    }
   ],
   "source": [
    "nvidia_docs = preprocess_content(nvidia_docs)"
   ]
  },
  {
   "cell_type": "code",
   "execution_count": 11,
   "metadata": {},
   "outputs": [],
   "source": [
    "write_json(positive_docs, \"../data/positive_docs.json\")\n",
    "write_json(negative_docs, \"../data/negative_docs.json\")\n",
    "write_json(nvidia_docs, \"../data/nvidia_docs.json\")"
   ]
  }
 ],
 "metadata": {
  "kernelspec": {
   "display_name": "Python 3",
   "language": "python",
   "name": "python3"
  },
  "language_info": {
   "codemirror_mode": {
    "name": "ipython",
    "version": 3
   },
   "file_extension": ".py",
   "mimetype": "text/x-python",
   "name": "python",
   "nbconvert_exporter": "python",
   "pygments_lexer": "ipython3",
   "version": "3.8.5"
  }
 },
 "nbformat": 4,
 "nbformat_minor": 4
}
