{
 "cells": [
  {
   "cell_type": "code",
   "execution_count": null,
   "metadata": {},
   "outputs": [],
   "source": [
    "%load_ext autoreload\n",
    "%autoreload 2"
   ]
  },
  {
   "cell_type": "code",
   "execution_count": null,
   "metadata": {},
   "outputs": [],
   "source": [
    "#https://en.wikipedia.org/wiki/Help:Category\n",
    "#https://en.wikipedia.org/wiki/Wikipedia:Contents/Categories"
   ]
  },
  {
   "cell_type": "code",
   "execution_count": null,
   "metadata": {},
   "outputs": [],
   "source": [
    "import wikipedia\n",
    "import json"
   ]
  },
  {
   "cell_type": "code",
   "execution_count": null,
   "metadata": {},
   "outputs": [],
   "source": [
    "def read_json(file_path):\n",
    "    \"\"\"\n",
    "    Read json file.\n",
    "    Arguments:\n",
    "     file_path -- string, path to file.\n",
    "    Returns:\n",
    "     d -- dictionary, with json contents.\n",
    "    Tips:\n",
    "     None.\n",
    "    \"\"\"\n",
    "\n",
    "    with open(file_path) as json_data:\n",
    "        d = json.load(json_data)\n",
    "\n",
    "    return d\n",
    "\n",
    "def write_json(data_dict, file_path):\n",
    "    \"\"\"\n",
    "    Write dictionary to json.\n",
    "    Arguments:\n",
    "     data_dict -- dictionary.\n",
    "     file_path -- string, path to file.\n",
    "    Returns:\n",
    "     None.\n",
    "    Tips:\n",
    "     None.\n",
    "    \"\"\"\n",
    "\n",
    "    with open(file_path, \"w\") as fp:\n",
    "        json.dump(data_dict, fp, indent=4)"
   ]
  },
  {
   "cell_type": "code",
   "execution_count": null,
   "metadata": {},
   "outputs": [],
   "source": [
    "def wiki_page_to_content(topic_list):\n",
    "    docs = {}\n",
    "    for topic in topic_list:\n",
    "        content = wikipedia.WikipediaPage(title=topic).content\n",
    "        end_content = content.find('== See also ==')\n",
    "        stripped_content = content[0:end_content]\n",
    "        docs.update({topic: stripped_content})\n",
    "    \n",
    "    return docs"
   ]
  },
  {
   "cell_type": "code",
   "execution_count": null,
   "metadata": {},
   "outputs": [],
   "source": [
    "wiki_negative = [\"Society\", \"Culture\", \"The arts\", \"Philosophy\", \"Thought\", \"Belief\"]"
   ]
  },
  {
   "cell_type": "code",
   "execution_count": null,
   "metadata": {},
   "outputs": [],
   "source": [
    "wiki_positive = [\"Technology\", \"Applied sciences\", \"Social sciences\", \"Science\", \n",
    "                 \"Natural sciences\", \"Nature\", \"Formal science\", \"Mathematics\"]"
   ]
  },
  {
   "cell_type": "code",
   "execution_count": null,
   "metadata": {},
   "outputs": [],
   "source": [
    "nvidia = [\"Nvidia\"]"
   ]
  },
  {
   "cell_type": "code",
   "execution_count": null,
   "metadata": {},
   "outputs": [],
   "source": [
    "negative_docs = wiki_page_to_content(wiki_negative)"
   ]
  },
  {
   "cell_type": "code",
   "execution_count": null,
   "metadata": {},
   "outputs": [],
   "source": [
    "positive_docs = wiki_page_to_content(wiki_positive)"
   ]
  },
  {
   "cell_type": "code",
   "execution_count": null,
   "metadata": {},
   "outputs": [],
   "source": [
    "nvidia_docs = wiki_page_to_content(nvidia)"
   ]
  },
  {
   "cell_type": "code",
   "execution_count": null,
   "metadata": {},
   "outputs": [],
   "source": [
    "write_json(negative_docs, \"../data/negative_docs.json\")"
   ]
  },
  {
   "cell_type": "code",
   "execution_count": null,
   "metadata": {},
   "outputs": [],
   "source": [
    "write_json(positive_docs, \"../data/positive_docs.json\")"
   ]
  },
  {
   "cell_type": "code",
   "execution_count": null,
   "metadata": {},
   "outputs": [],
   "source": [
    "write_json(nvidia_docs, \"../data/nvidia_docs.json\")"
   ]
  }
 ],
 "metadata": {
  "kernelspec": {
   "display_name": "Python 3",
   "language": "python",
   "name": "python3"
  },
  "language_info": {
   "codemirror_mode": {
    "name": "ipython",
    "version": 3
   },
   "file_extension": ".py",
   "mimetype": "text/x-python",
   "name": "python",
   "nbconvert_exporter": "python",
   "pygments_lexer": "ipython3",
   "version": "3.8.5"
  }
 },
 "nbformat": 4,
 "nbformat_minor": 4
}
